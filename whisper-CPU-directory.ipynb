{
 "cells": [
  {
   "cell_type": "markdown",
   "metadata": {},
   "source": [
    "Modification of whisper to text.ipynb to handle bulk transcriptions of an entire directory. This uses the CPU based whisper.cpp model that is slower by 14-60x but has the highest quality output with punctuation and acronyms most often correct such that very little if any editing is required. \n",
    "\n",
    "Added a file renaming function to remove spaces from any audio filename (as ffmpeg will cut off after the space).\n",
    "\n",
    "CAUTION: MAKE SURE TO BACKUP AUDIO FILES IF THEY HAVE SPACES IN THEIR NAMES AS THEY WILL BE RENAMED (AND THE METADATA ALTERED). For file names without spaces, the original file is not renamed and a copy is made in a compatible audio format."
   ]
  },
  {
   "cell_type": "code",
   "execution_count": null,
   "metadata": {},
   "outputs": [],
   "source": [
    "# https://github.com/ggerganov/whisper.cpp\n",
    "# conda activate py310\n",
    "import subprocess\n",
    "import os\n",
    "import glob\n",
    "import shutil"
   ]
  },
  {
   "cell_type": "code",
   "execution_count": null,
   "metadata": {},
   "outputs": [],
   "source": [
    "# set podcasts=True to copy all downloaded podcasts to the whisper.cpp/samples directory\n",
    "# example file location is from great Gnome Podcast app:  https://apps.gnome.org/en-GB/Podcasts/ \n",
    "podcasts = True"
   ]
  },
  {
   "cell_type": "code",
   "execution_count": null,
   "metadata": {},
   "outputs": [],
   "source": [
    "# rename all audio files with spaces in their name\n",
    "# poe.com assisted code\n",
    "# Specify the directory where the files are located: ensure there are no whitespaces in directory \n",
    "# e.g., '/bad directory/' will not work: it must be '/bad_directory/' or '/bad-directory/', etc.\n",
    "home_directory = os.path.expanduser(\"~\")\n",
    "directory = home_directory + '/machine_learning/whisper.cpp/samples/'\n",
    "#directory = home_directory + '/Music/Voice_Memos/'\n",
    "\n",
    "if podcasts:\n",
    "    # copy podcast from subdirectories with spaces to whisper sample directory\n",
    "    source_directory = home_directory + '/.var/app/org.gnome.Podcasts/data/gnome-podcasts/Downloads/'\n",
    "    # Traverse the source directory and its subdirectories\n",
    "    for root, directories, files in os.walk(source_directory):\n",
    "        for file in files:\n",
    "            source_path = os.path.join(root, file)\n",
    "            destination_path = os.path.join(directory, file)\n",
    "            # Copy the file to the destination directory\n",
    "            shutil.copy2(source_path, destination_path)\n",
    "\n",
    "# Get a list of all audio files, .m4a, .mp3, and .wav files, in the directory\n",
    "# added *.m2a for podcasts\n",
    "files = glob.glob(os.path.join(directory, '*.m4a')) + \\\n",
    "        glob.glob(os.path.join(directory, '*.mp3')) + \\\n",
    "        glob.glob(os.path.join(directory, '*.m2a')) + \\\n",
    "        glob.glob(os.path.join(directory, '*.ogg')) + \\\n",
    "        glob.glob(os.path.join(directory, '*.wav'))\n",
    "\n",
    "# Iterate over the files (use this approach also for directory transcription)\n",
    "# CAUTION: this overwrites files with spaces in their names such as 'Track 11.wav' to 'Track-11.wav' \n",
    "# by overwriting the file, it permits processing but alters the metadata to date file saved=today\n",
    "for file in files:\n",
    "    # If the file name contains a space\n",
    "    if ' ' in file:\n",
    "        # Replace the spaces with hyphens\n",
    "        new_name = file.replace(' ', '-')\n",
    "        # Rename the file\n",
    "        os.rename(file, new_name)"
   ]
  },
  {
   "cell_type": "code",
   "execution_count": null,
   "metadata": {},
   "outputs": [],
   "source": [
    "# iterate over all audio files and transcribe them:\n",
    "# note that due to the renaming function above, directory information\n",
    "# is contained in the file variable\n",
    "for file in files:\n",
    "    audio_file = file\n",
    "    # convert audio file to 16-bit wav format required by whisper\n",
    "    output_file = audio_file + '-output.wav'\n",
    "    print(audio_file)\n",
    "    print(output_file)\n",
    "\n",
    "    # convert audio_file then transcribe to text\n",
    "    # overwrites existing file with same name with yes_command\n",
    "    try:\n",
    "        yes_command = f'echo \"y\" | '\n",
    "        subprocess.run([yes_command + 'ffmpeg' + ' -i ' +  audio_file + ' -ar 16000 -ac 1 -c:a pcm_s16le ' \n",
    "                        + output_file], shell=True, check=True)\n",
    "        print(\"Audio coverted successfully.\")\n",
    "    except subprocess.CalledProcessError as e:\n",
    "        print(f\"Audio convertion failed with error {e.returncode}.\")\n",
    "\n",
    "    # transcribe using the large quantized CPU model, output text file\n",
    "    try:\n",
    "        subprocess.run(['transcribe -t 24 -m ' + home_directory + '/machine_learning/whisper.cpp/models/ggml-model-whisper-large-q5_0.bin -f ' \n",
    "                        + output_file + ' -otxt'], shell=True, check=True)\n",
    "        print(\"Transcription executed successfully and saved in \" + output_file)\n",
    "    except subprocess.CalledProcessError as e:\n",
    "        print(f\"Transcription failed with error {e.returncode}.\")"
   ]
  },
  {
   "cell_type": "code",
   "execution_count": null,
   "metadata": {},
   "outputs": [],
   "source": [
    "# helper utility to combine all transcripts into one file (for ease of scanning podcasts)\n",
    "# ai assisted\n",
    "def combine_markdown_files(output_file_path, input_directory):\n",
    "    markdown_files = glob.glob(input_directory + '*.txt')\n",
    "\n",
    "    with open(output_file_path, 'w') as output_file:\n",
    "        for file_path in markdown_files:\n",
    "            file_name = os.path.basename(file_path)\n",
    "            with open(file_path, 'r') as input_file:\n",
    "                output_file.write(f\"## {file_name}\\n\\n\")\n",
    "                output_file.write(input_file.read())\n",
    "                output_file.write('\\n\\n')  # Add newline between files\n",
    "\n",
    "    print(f\"Combined {len(markdown_files)} text files into {output_file_path}\")\n",
    "\n",
    "# saves combined text files into directory of Jupyter notebook (not the input directory)\n",
    "# CPU whisper saves to .txt format while distil-whisper saves to .md\n",
    "combine_markdown_files('podcast_transcripts.txt', directory)"
   ]
  }
 ],
 "metadata": {
  "kernelspec": {
   "display_name": "py310",
   "language": "python",
   "name": "python3"
  },
  "language_info": {
   "codemirror_mode": {
    "name": "ipython",
    "version": 3
   },
   "file_extension": ".py",
   "mimetype": "text/x-python",
   "name": "python",
   "nbconvert_exporter": "python",
   "pygments_lexer": "ipython3",
   "version": "3.10.13"
  }
 },
 "nbformat": 4,
 "nbformat_minor": 2
}
