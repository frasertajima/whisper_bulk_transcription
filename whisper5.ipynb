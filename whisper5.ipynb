{
  "cells": [
    {
      "cell_type": "markdown",
      "metadata": {
        "id": "view-in-github",
        "colab_type": "text"
      },
      "source": [
        "<a href=\"https://colab.research.google.com/github/frasertajima/whisper_bulk_transcription/blob/main/whisper5.ipynb\" target=\"_parent\"><img src=\"https://colab.research.google.com/assets/colab-badge.svg\" alt=\"Open In Colab\"/></a>"
      ]
    },
    {
      "cell_type": "code",
      "execution_count": 1,
      "metadata": {
        "colab": {
          "base_uri": "https://localhost:8080/"
        },
        "id": "1nu7s8ajsV-T",
        "outputId": "47d37f99-455b-49d6-b1f3-6c134c42d978"
      },
      "outputs": [
        {
          "output_type": "stream",
          "name": "stdout",
          "text": [
            "Looking in indexes: https://pypi.org/simple, https://us-python.pkg.dev/colab-wheels/public/simple/\n",
            "Collecting git+https://github.com/openai/whisper.git\n",
            "  Cloning https://github.com/openai/whisper.git to /tmp/pip-req-build-4ooz15df\n",
            "  Running command git clone -q https://github.com/openai/whisper.git /tmp/pip-req-build-4ooz15df\n",
            "Requirement already satisfied: numpy in /usr/local/lib/python3.7/dist-packages (from whisper==1.0) (1.21.6)\n",
            "Requirement already satisfied: torch in /usr/local/lib/python3.7/dist-packages (from whisper==1.0) (1.12.1+cu113)\n",
            "Requirement already satisfied: tqdm in /usr/local/lib/python3.7/dist-packages (from whisper==1.0) (4.64.1)\n",
            "Requirement already satisfied: more-itertools in /usr/local/lib/python3.7/dist-packages (from whisper==1.0) (8.14.0)\n",
            "Collecting transformers>=4.19.0\n",
            "  Downloading transformers-4.22.2-py3-none-any.whl (4.9 MB)\n",
            "\u001b[K     |████████████████████████████████| 4.9 MB 29.7 MB/s \n",
            "\u001b[?25hCollecting ffmpeg-python==0.2.0\n",
            "  Downloading ffmpeg_python-0.2.0-py3-none-any.whl (25 kB)\n",
            "Requirement already satisfied: future in /usr/local/lib/python3.7/dist-packages (from ffmpeg-python==0.2.0->whisper==1.0) (0.16.0)\n",
            "Requirement already satisfied: pyyaml>=5.1 in /usr/local/lib/python3.7/dist-packages (from transformers>=4.19.0->whisper==1.0) (6.0)\n",
            "Requirement already satisfied: filelock in /usr/local/lib/python3.7/dist-packages (from transformers>=4.19.0->whisper==1.0) (3.8.0)\n",
            "Requirement already satisfied: packaging>=20.0 in /usr/local/lib/python3.7/dist-packages (from transformers>=4.19.0->whisper==1.0) (21.3)\n",
            "Collecting huggingface-hub<1.0,>=0.9.0\n",
            "  Downloading huggingface_hub-0.10.0-py3-none-any.whl (163 kB)\n",
            "\u001b[K     |████████████████████████████████| 163 kB 73.6 MB/s \n",
            "\u001b[?25hRequirement already satisfied: importlib-metadata in /usr/local/lib/python3.7/dist-packages (from transformers>=4.19.0->whisper==1.0) (4.12.0)\n",
            "Collecting tokenizers!=0.11.3,<0.13,>=0.11.1\n",
            "  Downloading tokenizers-0.12.1-cp37-cp37m-manylinux_2_12_x86_64.manylinux2010_x86_64.whl (6.6 MB)\n",
            "\u001b[K     |████████████████████████████████| 6.6 MB 52.4 MB/s \n",
            "\u001b[?25hRequirement already satisfied: requests in /usr/local/lib/python3.7/dist-packages (from transformers>=4.19.0->whisper==1.0) (2.23.0)\n",
            "Requirement already satisfied: regex!=2019.12.17 in /usr/local/lib/python3.7/dist-packages (from transformers>=4.19.0->whisper==1.0) (2022.6.2)\n",
            "Requirement already satisfied: typing-extensions>=3.7.4.3 in /usr/local/lib/python3.7/dist-packages (from huggingface-hub<1.0,>=0.9.0->transformers>=4.19.0->whisper==1.0) (4.1.1)\n",
            "Requirement already satisfied: pyparsing!=3.0.5,>=2.0.2 in /usr/local/lib/python3.7/dist-packages (from packaging>=20.0->transformers>=4.19.0->whisper==1.0) (3.0.9)\n",
            "Requirement already satisfied: zipp>=0.5 in /usr/local/lib/python3.7/dist-packages (from importlib-metadata->transformers>=4.19.0->whisper==1.0) (3.8.1)\n",
            "Requirement already satisfied: urllib3!=1.25.0,!=1.25.1,<1.26,>=1.21.1 in /usr/local/lib/python3.7/dist-packages (from requests->transformers>=4.19.0->whisper==1.0) (1.24.3)\n",
            "Requirement already satisfied: certifi>=2017.4.17 in /usr/local/lib/python3.7/dist-packages (from requests->transformers>=4.19.0->whisper==1.0) (2022.6.15)\n",
            "Requirement already satisfied: chardet<4,>=3.0.2 in /usr/local/lib/python3.7/dist-packages (from requests->transformers>=4.19.0->whisper==1.0) (3.0.4)\n",
            "Requirement already satisfied: idna<3,>=2.5 in /usr/local/lib/python3.7/dist-packages (from requests->transformers>=4.19.0->whisper==1.0) (2.10)\n",
            "Building wheels for collected packages: whisper\n",
            "  Building wheel for whisper (setup.py) ... \u001b[?25l\u001b[?25hdone\n",
            "  Created wheel for whisper: filename=whisper-1.0-py3-none-any.whl size=1175011 sha256=4d71c6670d0c01fd206322292d8e955594ccf10c12a4601a79e6fa7c670e40ae\n",
            "  Stored in directory: /tmp/pip-ephem-wheel-cache-yhvxdw2k/wheels/16/15/89/1c7bb31bd0006793a95549d04785121a8a36daad9158e1e43a\n",
            "Successfully built whisper\n",
            "Installing collected packages: tokenizers, huggingface-hub, transformers, ffmpeg-python, whisper\n",
            "Successfully installed ffmpeg-python-0.2.0 huggingface-hub-0.10.0 tokenizers-0.12.1 transformers-4.22.2 whisper-1.0\n"
          ]
        }
      ],
      "source": [
        "# https://github.com/openai/whisper\n",
        "# https://www.assemblyai.com/blog/how-to-run-openais-whisper-speech-recognition-model/\n",
        "\n",
        "!pip install git+https://github.com/openai/whisper.git\n",
        "\n",
        "import whisper\n",
        "import os\n",
        "\n",
        "\n",
        "def transcribe_audio(filename):\n",
        "    # can be tiny, base, small, medium and large\n",
        "    # colab crashes on large due to memory so use medium\n",
        "    model = whisper.load_model(\"medium\")\n",
        "\n",
        "    # load audio \n",
        "    # \"/content/\" is the directory used in Colab for file downloads (will be different for locally run notebook)\n",
        "    filename = \"/content/\" + filename\n",
        "    print(filename, \"start.\")\n",
        "    result = model.transcribe(filename)\n",
        "\n",
        "    # print transcription\n",
        "    output=result[\"text\"]\n",
        "    print(output)\n",
        "\n",
        "    # save file as markdown file\n",
        "    filename = filename[:-4]\n",
        "    with open(filename+\".md\", 'w') as f:    # save in markdown instead of .txt format\n",
        "        f.write(output)\n",
        "\n",
        "    return"
      ]
    },
    {
      "cell_type": "code",
      "source": [
        "# read all files in specified directory\n",
        "file_list = os.listdir(path=r\"/content\")\n",
        "print(file_list)\n",
        "# transcribe each audio file in the directory\n",
        "# define acceptable filetypes to filter out colab .config and other non-audio files\n",
        "# the filetypes listed are the ones I am using but there could be others\n",
        "# flac seems to need \"lac\" due to 3 char filename treatment\n",
        "filetype = [\"m4a\", \"M4A\", \"wav\", \"WAV\", \"mp3\", \"MP3\", \"lac\", \"LAC\"]\n",
        "\n",
        "index = 0\n",
        "while index < len(file_list):\n",
        "    filename = file_list[index]\n",
        "    print(filename[-3:])\n",
        "    if filename[-3:] in filetype:\n",
        "      print(filename, \"being transcribed...\")\n",
        "      transcribe_audio(filename)\n",
        "    index += 1\n",
        "    \n",
        "print(\"all files transcribed.\")"
      ],
      "metadata": {
        "colab": {
          "base_uri": "https://localhost:8080/"
        },
        "id": "F8ijo5TjzVcE",
        "outputId": "ca47c8f8-d73b-49e7-9c13-12446426447b"
      },
      "execution_count": 3,
      "outputs": [
        {
          "output_type": "stream",
          "name": "stdout",
          "text": [
            "['.config', 'wsj tsla article.flac', 'sample_data']\n",
            "fig\n",
            "lac\n",
            "wsj tsla article.flac being transcribed...\n"
          ]
        },
        {
          "output_type": "stream",
          "name": "stderr",
          "text": [
            "100%|█████████████████████████████████████| 1.42G/1.42G [00:22<00:00, 67.4MiB/s]\n"
          ]
        },
        {
          "output_type": "stream",
          "name": "stdout",
          "text": [
            "/content/wsj tsla article.flac start.\n",
            " The Wall Street Journal, Tesla's first quarter deliveries plummet. Electric carmaker faces challenges shipping Model 3 overseas for the first time. By Tim Higgins, April 4, 2019. Tesla Inc. said new vehicle deliveries in the first quarter fell 31% from the previous three months as the electric carmaker struggled to ship its Model 3 compact car to customers in Europe and China for the first time. The Silicon Valley automaker Wednesday said it delivered about 63,000 vehicles in the latest period, worse than analysts already lowered expectations. Analysts on average had predicted deliveries would drop to 73,500, according to FactSet, a figure reflecting total deliveries of Model 3, Model S, and Model X vehicles. Tesla shares fell about 8% in Thursday morning trading. Concerns of a slow start to the deliveries in 2019. Tesla books its sales when a car is delivered. Have raised questions about the company's ability to meet ambitious sales targets after it struggled for nearly two years to increase production of the Model 3, its lowest priced vehicle. Tesla had slashed the Model 3's starting price three times during the quarter, finally reaching its long-promised base of $35,000, suggesting to some analysts that demand for more expensive versions had plateaued. Last quarter was Tesla's first sales period following the phase-out of U.S. tax credits went into effect. Starting to $3,750 from $7,500 for buyers. The credits end at the beginning of next year. Tesla attributed the slowdown to challenges associated with tanking taking the Model 3 overseas for the first time, noting it had only delivered half of the entire quarter's vehicles 10 days before the period ended. The company cautioned that lower-than-expected sales volumes, along with several price cuts, would negatively affect first quarter income. It said it planned to end the quarter with sufficient cash on hand. David Whiston, an analyst at Morningstar Research Services, said the Model 3 should bounce back in Q2 if the transition challenges to delivering in Europe and China are behind them. Tesla said it delivered 50,900 Model 3 cars in the first quarter, down 20% from 63,359 the preceding three months. Analysts had expected 54,600 in the latest quarter. Sales of the more expensive Model S car and Model X sport utility vehicle collectively fell to 12,100 from 27,602 during the fourth quarter. The Model 3 represents chief executive Elon Musk's bet that he can turn Tesla into a more mainstream automaker from a niche lottery player. It wasn't until the final week of June that Tesla began to hit its stride in building the Model 3 at a consistent pace near what he had long predicted. But getting the Model 3 to customers has bedeviled the company ever since it cranked up production. As Tesla's U.S. sales approached those of luxury brands like BMW AG and Daimler AG's and Mercedes-Benz, the company has encountered a host of logistical issues from delivery and servicing of a growing fleet to balancing supply and demand. The delivery challenge was especially pronounced in the first quarter when Tesla began delivering the Model 3 overseas. Tesla has one assembly factory located in Fremont, California. It traditionally dedicates the early parts of each quarter to shipping vehicles overseas to account for travel time. Tesla had cautioned its results would be affected by taking the Model 3 overseas for the first time. The company has already begun construction on a factory in China to build the Model 3 and future Model Y compact SUV for that market, and Mr. Musk had said the company intends to open an assembly plant in Europe. The challenge for Tesla is balancing the costs of ambitious growth plans with maintaining profitability. Tesla went into the final days of March with a broad push to deliver the Model 3. In a company-wide email reported earlier by Business Insider, Mr. Musk urged employees to focus on deliveries, noting that sharply rising orders in Europe and China, similar to the increase in North America last year, were posing new fulfillment challenges. Shortages of Europe-specific parts and a printing error that had recently been resolved in China, he said, were making it harder to get vehicles to customers. In January, Tesla said it expected deliveries of the Model 3 to be 10,000 fewer than it would make during the quarter. Tesla on Wednesday said it made 62,950 Model 3 sedans in the quarter, compared with the 61,394 made in the three months ending December 31. Tesla built 77,100 vehicles in the period, an 11% decline from the fourth quarter. The company said it had 10,600 vehicles in transit at the end of the quarter. That will count as sales during this delivery period. Tesla had almost 3,000 vehicles in transit at the end of the fourth quarter. Not giving any specific country figures, Tesla said orders for the Model 3 in the US outpaced deliveries in the period. The company said inventory of the vehicle in North America remains exceptionally low at a two-week supply. Mr. Musk's varied statements on Tesla's 2019 outlook have stirred controversy. In January, he told shareholders in a letter that Tesla expected to deliver between 360,000 and 400,000 vehicles this year. During a conference call shortly after releasing the letter, he suggested that total might be higher, saying demand for the Model 3 could range between 350,000 and 500,000 this year. A few weeks later on Twitter, Mr. Musk predicted making 500,000 vehicles this year, then later clarified that he meant an annualized production rate of 10,000 cars a week by year's end. US regulators point to those tweets as violating a settlement he made with the Securities and Exchange Commission to have his messages vetted before publication. The two sides are set to appear before a judge later this week. Brian Johnson, an analyst for Barclays, has noted that the difference between the low and high ranges for the year given at various points by Mr. Musk during the quarter could amount to a revenue swing of $10 billion and a difference of $8 billion in inventory bills. On Wednesday, Tesla also reiterated that it plans to deliver between 360,000 and 400,000 vehicles this year.\n",
            "ata\n",
            "all files transcribed.\n"
          ]
        }
      ]
    }
  ],
  "metadata": {
    "kernelspec": {
      "display_name": "Python 3.8.13 ('pytorch-directml')",
      "language": "python",
      "name": "python3"
    },
    "language_info": {
      "codemirror_mode": {
        "name": "ipython",
        "version": 3
      },
      "file_extension": ".py",
      "mimetype": "text/x-python",
      "name": "python",
      "nbconvert_exporter": "python",
      "pygments_lexer": "ipython3",
      "version": "3.8.13"
    },
    "orig_nbformat": 4,
    "vscode": {
      "interpreter": {
        "hash": "79849614a1f070daf352e0af667e60a43e9406d771f853c326ca0f3fcc214227"
      }
    },
    "colab": {
      "provenance": [],
      "include_colab_link": true
    },
    "accelerator": "GPU"
  },
  "nbformat": 4,
  "nbformat_minor": 0
}