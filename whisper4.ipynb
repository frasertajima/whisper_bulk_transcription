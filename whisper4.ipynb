{
  "cells": [
    {
      "cell_type": "markdown",
      "metadata": {
        "id": "view-in-github",
        "colab_type": "text"
      },
      "source": [
        "<a href=\"https://colab.research.google.com/github/frasertajima/whisper_bulk_transcription/blob/main/whisper4.ipynb\" target=\"_parent\"><img src=\"https://colab.research.google.com/assets/colab-badge.svg\" alt=\"Open In Colab\"/></a>"
      ]
    },
    {
      "cell_type": "code",
      "execution_count": 1,
      "metadata": {
        "colab": {
          "base_uri": "https://localhost:8080/"
        },
        "id": "1nu7s8ajsV-T",
        "outputId": "c1e257b8-ee58-4bc5-adeb-19362b400d34"
      },
      "outputs": [
        {
          "output_type": "stream",
          "name": "stdout",
          "text": [
            "Looking in indexes: https://pypi.org/simple, https://us-python.pkg.dev/colab-wheels/public/simple/\n",
            "Collecting git+https://github.com/openai/whisper.git\n",
            "  Cloning https://github.com/openai/whisper.git to /tmp/pip-req-build-b6buqxmb\n",
            "  Running command git clone -q https://github.com/openai/whisper.git /tmp/pip-req-build-b6buqxmb\n",
            "Requirement already satisfied: numpy in /usr/local/lib/python3.7/dist-packages (from whisper==1.0) (1.21.6)\n",
            "Requirement already satisfied: torch in /usr/local/lib/python3.7/dist-packages (from whisper==1.0) (1.12.1+cu113)\n",
            "Requirement already satisfied: tqdm in /usr/local/lib/python3.7/dist-packages (from whisper==1.0) (4.64.1)\n",
            "Requirement already satisfied: more-itertools in /usr/local/lib/python3.7/dist-packages (from whisper==1.0) (8.14.0)\n",
            "Requirement already satisfied: transformers>=4.19.0 in /usr/local/lib/python3.7/dist-packages (from whisper==1.0) (4.22.2)\n",
            "Requirement already satisfied: ffmpeg-python==0.2.0 in /usr/local/lib/python3.7/dist-packages (from whisper==1.0) (0.2.0)\n",
            "Requirement already satisfied: future in /usr/local/lib/python3.7/dist-packages (from ffmpeg-python==0.2.0->whisper==1.0) (0.16.0)\n",
            "Requirement already satisfied: tokenizers!=0.11.3,<0.13,>=0.11.1 in /usr/local/lib/python3.7/dist-packages (from transformers>=4.19.0->whisper==1.0) (0.12.1)\n",
            "Requirement already satisfied: regex!=2019.12.17 in /usr/local/lib/python3.7/dist-packages (from transformers>=4.19.0->whisper==1.0) (2022.6.2)\n",
            "Requirement already satisfied: requests in /usr/local/lib/python3.7/dist-packages (from transformers>=4.19.0->whisper==1.0) (2.23.0)\n",
            "Requirement already satisfied: filelock in /usr/local/lib/python3.7/dist-packages (from transformers>=4.19.0->whisper==1.0) (3.8.0)\n",
            "Requirement already satisfied: importlib-metadata in /usr/local/lib/python3.7/dist-packages (from transformers>=4.19.0->whisper==1.0) (4.12.0)\n",
            "Requirement already satisfied: packaging>=20.0 in /usr/local/lib/python3.7/dist-packages (from transformers>=4.19.0->whisper==1.0) (21.3)\n",
            "Requirement already satisfied: pyyaml>=5.1 in /usr/local/lib/python3.7/dist-packages (from transformers>=4.19.0->whisper==1.0) (6.0)\n",
            "Requirement already satisfied: huggingface-hub<1.0,>=0.9.0 in /usr/local/lib/python3.7/dist-packages (from transformers>=4.19.0->whisper==1.0) (0.10.0)\n",
            "Requirement already satisfied: typing-extensions>=3.7.4.3 in /usr/local/lib/python3.7/dist-packages (from huggingface-hub<1.0,>=0.9.0->transformers>=4.19.0->whisper==1.0) (4.1.1)\n",
            "Requirement already satisfied: pyparsing!=3.0.5,>=2.0.2 in /usr/local/lib/python3.7/dist-packages (from packaging>=20.0->transformers>=4.19.0->whisper==1.0) (3.0.9)\n",
            "Requirement already satisfied: zipp>=0.5 in /usr/local/lib/python3.7/dist-packages (from importlib-metadata->transformers>=4.19.0->whisper==1.0) (3.8.1)\n",
            "Requirement already satisfied: idna<3,>=2.5 in /usr/local/lib/python3.7/dist-packages (from requests->transformers>=4.19.0->whisper==1.0) (2.10)\n",
            "Requirement already satisfied: chardet<4,>=3.0.2 in /usr/local/lib/python3.7/dist-packages (from requests->transformers>=4.19.0->whisper==1.0) (3.0.4)\n",
            "Requirement already satisfied: urllib3!=1.25.0,!=1.25.1,<1.26,>=1.21.1 in /usr/local/lib/python3.7/dist-packages (from requests->transformers>=4.19.0->whisper==1.0) (1.24.3)\n",
            "Requirement already satisfied: certifi>=2017.4.17 in /usr/local/lib/python3.7/dist-packages (from requests->transformers>=4.19.0->whisper==1.0) (2022.6.15)\n"
          ]
        }
      ],
      "source": [
        "# google colab GPU version is extremely fast\n",
        "\n",
        "# https://github.com/openai/whisper\n",
        "# https://www.assemblyai.com/blog/how-to-run-openais-whisper-speech-recognition-model/\n",
        "\n",
        "!pip install git+https://github.com/openai/whisper.git\n",
        "\n",
        "import whisper\n",
        "import os\n",
        "\n",
        "\n",
        "def transcribe_audio(filename):\n",
        "    # can be tiny, base, small, medium and large\n",
        "    # colab crashes on large due to memory so use medium\n",
        "    model = whisper.load_model(\"medium\")\n",
        "\n",
        "    # load audio \n",
        "    # \"/content/\" is the directory used in Colab for file downloads (will be different for locally run notebook)\n",
        "    filename = \"/content/\" + filename\n",
        "    print(filename, \"start.\")\n",
        "    result = model.transcribe(filename)\n",
        "\n",
        "    # print transcription\n",
        "    output=result[\"text\"]\n",
        "    print(output)\n",
        "\n",
        "    # save file as markdown file\n",
        "    filename = filename[:-4]\n",
        "    with open(filename+\".md\", 'w') as f:    # save in markdown instead of .txt format\n",
        "        f.write(output)\n",
        "\n",
        "    return"
      ]
    },
    {
      "cell_type": "code",
      "source": [
        "# read all files in specified directory\n",
        "file_list = os.listdir(path=r\"/content\")\n",
        "print(file_list)\n",
        "# transcribe each audio file in the directory\n",
        "# define acceptable filetypes to filter out colab .config and other non-audio files\n",
        "# the filetypes listed are the ones I am using but there could be others\n",
        "filetype = [\"m4a\", \"M4A\", \"wav\", \"WAV\", \"mp3\", \"MP3\"]\n",
        "\n",
        "index = 0\n",
        "while index < len(file_list):\n",
        "    filename = file_list[index]\n",
        "    print(filename[-3:])\n",
        "    if filename[-3:] in filetype:\n",
        "      print(filename, \"being transcribed...\")\n",
        "      transcribe_audio(filename)\n",
        "    index += 1\n",
        "    \n",
        "print(\"all files transcribed.\")"
      ],
      "metadata": {
        "colab": {
          "base_uri": "https://localhost:8080/"
        },
        "id": "F8ijo5TjzVcE",
        "outputId": "c979c286-c9a2-4d9f-e780-93f61d61c9fa"
      },
      "execution_count": 12,
      "outputs": [
        {
          "output_type": "stream",
          "name": "stdout",
          "text": [
            "['.config', 'V798U2~3.M4A', 'Wednesday at 3-03 pm.md', 'V798U2~3.md', 'Wednesday at 3-03 pm.m4a', 'Transcription search is possible.md', 'Transcription search is possible.m4a', 'sample_data']\n",
            "fig\n",
            "M4A\n",
            "V798U2~3.M4A being transcribed...\n",
            "/content/V798U2~3.M4A start.\n",
            " When we have a company like WeWorks, which is proposed to be worth $47 billion one week and then under $40 billion the next week, and then bankrupt unless $5 billion in funding is made the week later, and then valued at under $8 billion by the main investor in a company. What exactly is the value of that company? Can you say that a company is worth $47 billion if it cannot be sustained without infinite and constant cash infusion? Isn't such a company in more traditional times considered insolvent or bankrupt or not a going concern? And isn't the presence of infinite funding irrelevant to that determination? So when someone says a company like Tesla is worth $40 billion, but by the way it requires constant capital infusion, is it really worth $47 billion if when it is liquidated debts are greater than assets, for example? Isn't it actually worth negative several billions of dollars? That is to say, isn't there a fundamental fraud or deficiency in the valuation metric if a company cannot be sustained without external financing forever and ever? Is such a company ever worth more than zero in that circumstance? And if not, and yet it is still proposed as being worth $47 billion, isn't there then a fundamental problem or fraud in the method of advancing valuation in companies today? We seem to be getting back to the 2000 internet bubble frauds when such massive valuations are ascribed to companies which simply are insolvent and non-sustainable without constant external infusions of cash. If they are not sustainable they are not viable businesses and thus do not seem to be worth anything no matter how big the market might be. This is a fundamental problem in valuation and it calls into question the assumptions that are underpinning the valuation and by ignoring the assumptions there seems to be a vehicle for fraud.\n",
            ".md\n",
            ".md\n",
            "m4a\n",
            "Wednesday at 3-03 pm.m4a being transcribed...\n",
            "/content/Wednesday at 3-03 pm.m4a start.\n",
            " So Tesla has moved from 500 to 965 dollars or so and is now 730 some odd dollars. If you look at the chart you can see big moves when volume is over 3 million shares and in particular yesterday's nearly 100 point move down after moving up over a hundred dollars is very telling. It shows that a big fund liquidated all at once causing price to move over a hundred dollars in the span of five minutes and this morning's open also was heavy with consistent selling and very high volume which then tapered off mid-morning and then resumed again after European close or thereabouts and again anytime there was over 3 million shares prices moved down. This is the largest move down since I think 2013 but it still has a long way to go just to even get back to the month starting price of 500 and even at 500 it's grossly overvalued. So this insane parabolic move may have been due to Robinhood small traders but I think actually the more logical explanation is Chinese state fund money because the biggest moves came right after coronavirus liquidity injections of trillions of won 13 trillion won which did not go to the Shanghai market because that market did not go up but instead seems to have gone to US bubble issues that had a connection with China ie Tesla for the most part to give you an idea of the scale and scope of the distortion Tesla at one point was trading in greater volume than the SPY which is extraordinarily unusual. Also keep in mind that there have been no fundamental improvements in the company for at least two years revenue has been declining each market has been topping out US Europe and now China and despite any pushes to new subsidy markets like the Netherlands the actual ASPs have been going down the actual profit margins have been going down even with the greater volume so that by the end of the day the top line and bottom line are getting worse not better yet despite this Tesla moved from 250 300 to 900 and 65 dollars at tripling on no fundamental improvement and of course the other thing is that there has been a tremendous increase in the number of competitors with much better products coming in and of course China is going to be flooding various markets with their EV products into Europe and other markets because China sales have been slowing down and auto sales generally have been slowing down so you have the fundamental headwinds of declining overall industry sales very poor conditions with Ford GM and others demonstrating weakening sales and yet in this market Tesla shares triple to say that there's a disconnect is understating it to say the least what triggered such fever and euphoria in Tesla is not clear because building a Shanghai factory doesn't mean that you've built demand so I have no explanation for that all I can see is that there has been a parabolic move in the chart so maybe people were just simply interested in following the trend and then scaling up as the gains just kept coming day after day after day so before we were getting $10 moves and then it started going $20 moves and then over $100 moves in a day keeping in mind that Tesla was $180 just a year ago to have it move up $180 in a day was obviously insane but by the same token it also indicates the very last stages of the bubble so I top ticked and closed out most of my position at the very top of course I seem to do that every single fucking time but I also quickly got back in when there was that big $100 drop 10 minutes before close so I was able to gain some exposure and continue increasing exposure today so now I have 160 shares which is still less than half of my initial 400 in some odd share exposure but I don't have any buying power because of the $250,000 destruction caused by this parabolic move from 200 to almost $1,000 almost a five-time increase but that sort of parabolic move of course is not sustainable particularly when revenue and profit or losses have not improved so the disconnect cannot exist forever and it needed ever increasing central bank money printing which was going on since October which probably is the reason why Tesla was initially moving up from 200 and the final $180 blow off top was caused by the China central bank injecting trillions of won but of course that cannot be continuous nor can it even be maintained so once that money printing stops then all of that gain will be reversed of course and I wouldn't be surprised to see Tesla below 300 within the year because Q1 will be absolutely terrible maybe over a billion dollars in losses with declining sales in all markets and a China disaster so I wouldn't be surprised if there are going to be huge problems along with all the litigation problems and the execution problems and the fraud problems and the autopilot problems and all the other competition problems in Europe already Teslas are not very popular their sales have collapsed in the subsidy areas and by collapsed I mean going from 12,000 to 200 or less other markets are 50 or less so there simply isn't any more subsidy gravy left they've run out they've exhausted all of their markets including China so there is no growth runway and that correction will be dramatic but given that all of this is known it just made no sense at all that prices would be going up hundreds of dollars each week the disconnect between deteriorating fundamentals and exponentially increasing prices meant that the buyer was absolutely idiotic and that's shown by today's price action which dropped about 20% of course there will be even more forced selling and you can see dramatic moves going forward I wouldn't be surprised my main concern is whether I'll have any chance of recovering even half of my losses in this downturn which you'll see\n",
            ".md\n",
            "m4a\n",
            "Transcription search is possible.m4a being transcribed...\n",
            "/content/Transcription search is possible.m4a start.\n",
            " One extremely wild and amazing feature of this recorder is that if you say the word transcription, for example, even though this app doesn't allow access to the transcription in non-pixel phones, if you do a search, you can still find all instances where you used the word transcription in your audio files. It highlights where that word is, and you can scroll to that particular part in the recording and hear it. Needless to say, that's pretty amazing.\n",
            "ata\n",
            "all files transcribed.\n"
          ]
        }
      ]
    }
  ],
  "metadata": {
    "kernelspec": {
      "display_name": "Python 3.8.13 ('pytorch-directml')",
      "language": "python",
      "name": "python3"
    },
    "language_info": {
      "codemirror_mode": {
        "name": "ipython",
        "version": 3
      },
      "file_extension": ".py",
      "mimetype": "text/x-python",
      "name": "python",
      "nbconvert_exporter": "python",
      "pygments_lexer": "ipython3",
      "version": "3.8.13"
    },
    "orig_nbformat": 4,
    "vscode": {
      "interpreter": {
        "hash": "79849614a1f070daf352e0af667e60a43e9406d771f853c326ca0f3fcc214227"
      }
    },
    "colab": {
      "provenance": [],
      "include_colab_link": true
    },
    "accelerator": "GPU"
  },
  "nbformat": 4,
  "nbformat_minor": 0
}