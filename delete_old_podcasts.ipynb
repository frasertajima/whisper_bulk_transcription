{
 "cells": [
  {
   "cell_type": "code",
   "execution_count": 6,
   "metadata": {},
   "outputs": [
    {
     "name": "stdout",
     "output_type": "stream",
     "text": [
      "Deleted: /var/home/fraser/.var/app/org.gnome.Podcasts/data/gnome-podcasts/Downloads/WSJ Minute Briefing/5952.m2a\n",
      "Deleted: /var/home/fraser/.var/app/org.gnome.Podcasts/data/gnome-podcasts/Downloads/Prosecuting Donald Trump/5965.m2a\n"
     ]
    }
   ],
   "source": [
    "# CAUTION: utility to delete old podcasts downloaded in Gnome Podcasts (as the app does not have a delete function)\n",
    "# https://apps.gnome.org/en-GB/Podcasts/ does not have a delete downloaded podcasts function\n",
    "# restart Podcasts app to clear cache and see current state of downloaded podcasts in the app\n",
    "# amended from poe.com ai\n",
    "import os\n",
    "\n",
    "def delete_audio_files(source_directory):\n",
    "    for root, directories, files in os.walk(source_directory):\n",
    "        for file in files:\n",
    "            if file.endswith(('.m2a', '.wav', '.flac', '.aac', '.mp3')):\n",
    "                file_path = os.path.join(root, file)\n",
    "                os.remove(file_path)\n",
    "                print(f\"Deleted: {file_path}\")\n",
    "\n",
    "# Specify the directory path where you want to delete audio files\n",
    "# change 'fraser' to your own home directory for example\n",
    "source_directory = '/var/home/fraser/.var/app/org.gnome.Podcasts/data/gnome-podcasts/Downloads/'\n",
    "\n",
    "# Call the function to delete audio files\n",
    "delete_audio_files(source_directory)"
   ]
  }
 ],
 "metadata": {
  "kernelspec": {
   "display_name": "py310",
   "language": "python",
   "name": "python3"
  },
  "language_info": {
   "codemirror_mode": {
    "name": "ipython",
    "version": 3
   },
   "file_extension": ".py",
   "mimetype": "text/x-python",
   "name": "python",
   "nbconvert_exporter": "python",
   "pygments_lexer": "ipython3",
   "version": "3.10.13"
  }
 },
 "nbformat": 4,
 "nbformat_minor": 2
}
