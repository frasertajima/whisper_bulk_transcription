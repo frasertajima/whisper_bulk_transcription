{
 "cells": [
  {
   "cell_type": "markdown",
   "metadata": {},
   "source": [
    "Modification of whisper-distil.ipynb to handle bulk transcriptions of an entire directory. Added a file renaming function to remove spaces from any audio filename (as ffmpeg will cut off after the space).\n",
    "\n",
    "CAUTION: MAKE SURE TO BACKUP AUDIO FILES IF THEY HAVE SPACES IN THEIR NAMES AS THEY WILL BE RENAMED (AND THE METADATA ALTERED). For file names without spaces, the original file is not renamed and a copy is made in a compatible audio format."
   ]
  },
  {
   "cell_type": "code",
   "execution_count": 1,
   "metadata": {},
   "outputs": [
    {
     "data": {
      "text/plain": [
       "'2.2.1+cu121'"
      ]
     },
     "execution_count": 1,
     "metadata": {},
     "output_type": "execute_result"
    }
   ],
   "source": [
    "import torch\n",
    "torch.__version__"
   ]
  },
  {
   "cell_type": "code",
   "execution_count": 2,
   "metadata": {},
   "outputs": [
    {
     "data": {
      "text/plain": [
       "True"
      ]
     },
     "execution_count": 2,
     "metadata": {},
     "output_type": "execute_result"
    }
   ],
   "source": [
    "# need cuda for vastly faster transcription\n",
    "#47 seconds for a full 30 min podcast! Insanely fast\n",
    "torch.cuda.is_available()"
   ]
  },
  {
   "cell_type": "code",
   "execution_count": 3,
   "metadata": {},
   "outputs": [
    {
     "name": "stderr",
     "output_type": "stream",
     "text": [
      "2024-03-17 12:49:33.223423: I tensorflow/core/util/port.cc:113] oneDNN custom operations are on. You may see slightly different numerical results due to floating-point round-off errors from different computation orders. To turn them off, set the environment variable `TF_ENABLE_ONEDNN_OPTS=0`.\n",
      "2024-03-17 12:49:33.264444: I tensorflow/core/platform/cpu_feature_guard.cc:210] This TensorFlow binary is optimized to use available CPU instructions in performance-critical operations.\n",
      "To enable the following instructions: AVX2 AVX_VNNI FMA, in other operations, rebuild TensorFlow with the appropriate compiler flags.\n",
      "2024-03-17 12:49:33.989919: W tensorflow/compiler/tf2tensorrt/utils/py_utils.cc:38] TF-TRT Warning: Could not find TensorRT\n",
      "2024-03-17 12:49:34.311050: I itex/core/wrapper/itex_cpu_wrapper.cc:52] Intel Extension for Tensorflow* AVX2 CPU backend is loaded.\n",
      "2024-03-17 12:49:34.313122: W itex/core/wrapper/itex_gpu_wrapper.cc:32] Could not load dynamic library: libimf.so: cannot open shared object file: No such file or directory\n",
      "2024-03-17 12:49:34.349564: W itex/core/ops/op_init.cc:58] Op: _QuantizedMaxPool3D is already registered in Tensorflow\n",
      "2024-03-17 12:49:34.360510: E itex/core/wrapper/itex_gpu_wrapper.cc:49] Could not load Intel Extension for Tensorflow* GPU backend, GPU will not be used.\n",
      "If you need help, create an issue at https://github.com/intel/intel-extension-for-tensorflow/issues\n",
      "2024-03-17 12:49:34.360840: I external/local_xla/xla/stream_executor/cuda/cuda_executor.cc:998] successful NUMA node read from SysFS had negative value (-1), but there must be at least one NUMA node, so returning NUMA node zero. See more at https://github.com/torvalds/linux/blob/v6.0/Documentation/ABI/testing/sysfs-bus-pci#L344-L355\n",
      "2024-03-17 12:49:34.361447: W tensorflow/core/common_runtime/gpu/gpu_device.cc:2251] Cannot dlopen some GPU libraries. Please make sure the missing libraries mentioned above are installed properly if you would like to use GPU. Follow the guide at https://www.tensorflow.org/install/gpu for how to download and setup the required libraries for your platform.\n",
      "Skipping registering GPU devices...\n",
      "2024-03-17 12:49:34.361516: E itex/core/wrapper/itex_gpu_wrapper.cc:49] Could not load Intel Extension for Tensorflow* GPU backend, GPU will not be used.\n",
      "If you need help, create an issue at https://github.com/intel/intel-extension-for-tensorflow/issues\n",
      "You are attempting to use Flash Attention 2.0 with a model not initialized on GPU. Make sure to move the model to GPU after initializing it on CPU with `model.to('cuda')`.\n"
     ]
    },
    {
     "name": "stdout",
     "output_type": "stream",
     "text": [
      "cuda:0\n"
     ]
    },
    {
     "name": "stderr",
     "output_type": "stream",
     "text": [
      "Special tokens have been added in the vocabulary, make sure the associated word embeddings are fine-tuned or trained.\n"
     ]
    }
   ],
   "source": [
    "# https://github.com/huggingface/distil-whisper\n",
    "# conda activate py310\n",
    "import torch\n",
    "import subprocess\n",
    "import os\n",
    "import glob\n",
    "import shutil\n",
    "from transformers import AutoModelForSpeechSeq2Seq, AutoProcessor, pipeline\n",
    "\n",
    "device = \"cuda:0\" if torch.cuda.is_available() else \"cpu\"\n",
    "torch_dtype = torch.float16 if torch.cuda.is_available() else torch.float32\n",
    "print(device)\n",
    "\n",
    "# biggest model for highest quality\n",
    "model_id = \"distil-whisper/distil-large-v2\"\n",
    "model = AutoModelForSpeechSeq2Seq.from_pretrained(\n",
    "    model_id, \n",
    "    torch_dtype=torch_dtype, \n",
    "    low_cpu_mem_usage=True, \n",
    "    use_safetensors=True,\n",
    "    attn_implementation=\"flash_attention_2\")        # updated\n",
    "model.to(device)\n",
    "processor = AutoProcessor.from_pretrained(model_id)"
   ]
  },
  {
   "cell_type": "code",
   "execution_count": 4,
   "metadata": {},
   "outputs": [],
   "source": [
    "# set podcasts=True to copy all downloaded podcasts to the whisper.cpp/samples directory\n",
    "# example file location is from great Gnome Podcast app:  https://apps.gnome.org/en-GB/Podcasts/ \n",
    "podcasts = True"
   ]
  },
  {
   "cell_type": "code",
   "execution_count": 5,
   "metadata": {},
   "outputs": [],
   "source": [
    "# rename all audio files with spaces in their name\n",
    "# poe.com assisted code\n",
    "# Specify the directory where the files are located\n",
    "directory = '/var/home/fraser/machine_learning/whisper.cpp/samples/'\n",
    "#directory = '/var/home/fraser/Music/Voice_Memos/'\n",
    "\n",
    "if podcasts:\n",
    "    # copy podcast from subdirectories with spaces to whisper sample directory\n",
    "    source_directory = '/var/home/fraser/.var/app/org.gnome.Podcasts/data/gnome-podcasts/Downloads/'\n",
    "    # Traverse the source directory and its subdirectories\n",
    "    for root, directories, files in os.walk(source_directory):\n",
    "        for file in files:\n",
    "            source_path = os.path.join(root, file)\n",
    "            destination_path = os.path.join(directory, file)\n",
    "            # Copy the file to the destination directory\n",
    "            shutil.copy2(source_path, destination_path)\n",
    "\n",
    "# Get a list of all audio files, .m4a, .mp3, and .wav files, in the directory\n",
    "# added *.m2a for podcasts\n",
    "files = glob.glob(os.path.join(directory, '*.m4a')) + \\\n",
    "        glob.glob(os.path.join(directory, '*.mp3')) + \\\n",
    "        glob.glob(os.path.join(directory, '*.m2a')) + \\\n",
    "        glob.glob(os.path.join(directory, '*.ogg')) + \\\n",
    "        glob.glob(os.path.join(directory, '*.wav'))\n",
    "\n",
    "# Iterate over the files (use this approach also for directory transcription)\n",
    "# CAUTION: this overwrites files with spaces in their names such as 'Track 11.wav' to 'Track-11.wav' \n",
    "# by overwriting the file, it permits processing but alters the metadata to date file saved=today\n",
    "for file in files:\n",
    "    # If the file name contains a space\n",
    "    if ' ' in file:\n",
    "        # Replace the spaces with hyphens\n",
    "        new_name = file.replace(' ', '-')\n",
    "        # Rename the file\n",
    "        os.rename(file, new_name)"
   ]
  },
  {
   "cell_type": "code",
   "execution_count": 6,
   "metadata": {},
   "outputs": [
    {
     "name": "stdout",
     "output_type": "stream",
     "text": [
      "/var/home/fraser/machine_learning/whisper.cpp/samples/5970.m2a\n",
      "/var/home/fraser/machine_learning/whisper.cpp/samples/5970.m2a-output.wav\n",
      "Audio coverted successfully.\n"
     ]
    },
    {
     "name": "stderr",
     "output_type": "stream",
     "text": [
      "ffmpeg version 4.4 Copyright (c) 2000-2021 the FFmpeg developers\n",
      "  built with gcc 9.3.0 (crosstool-NG 1.24.0.133_b0863d8_dirty)\n",
      "  configuration: --prefix=/root/miniconda3/envs/conda_bld/conda-bld/ffmpeg_1635335682798/_h_env_placehold_placehold_placehold_placehold_placehold_placehold_placehold_placehold_placehold_placehold_placehold_placehold_placehold_placehold_placehold_placehold_placehold_placehold_place --cc=/root/miniconda3/envs/conda_bld/conda-bld/ffmpeg_1635335682798/_build_env/bin/x86_64-conda-linux-gnu-cc --disable-doc --disable-openssl --enable-avresample --enable-hardcoded-tables --enable-libfreetype --enable-libopenh264 --enable-pic --enable-pthreads --enable-shared --disable-static --enable-version3 --enable-zlib --enable-libmp3lame\n",
      "  libavutil      56. 70.100 / 56. 70.100\n",
      "  libavcodec     58.134.100 / 58.134.100\n",
      "  libavformat    58. 76.100 / 58. 76.100\n",
      "  libavdevice    58. 13.100 / 58. 13.100\n",
      "  libavfilter     7.110.100 /  7.110.100\n",
      "  libavresample   4.  0.  0 /  4.  0.  0\n",
      "  libswscale      5.  9.100 /  5.  9.100\n",
      "  libswresample   3.  9.100 /  3.  9.100\n",
      "Unknown attached picture mimetype: image/, skipping.\n",
      "[mp3 @ 0x565459bd3580] Estimating duration from bitrate, this may be inaccurate\n",
      "Input #0, mp3, from '/var/home/fraser/machine_learning/whisper.cpp/samples/5970.m2a':\n",
      "  Metadata:\n",
      "    title           : Inflation Weighs on U.S. Stocks\n",
      "    lyrics-ENG      : <p>Plus: McDonald’s shares fall roughly 1% after <a href=\"https://www.wsj.com/finance/stocks/global-stocks-markets-dow-news-03-15-2024-0ce95baa?st=guby3rj42xgjopk&amp;reflink=desktopwebshare_permalink\">a technology glitch prevented some stores from open\n",
      "                    : \n",
      "    artist          : The Wall Street Journal\n",
      "    album           : WSJ Minute Briefing\n",
      "    genre           : Podcast\n",
      "    date            : 2018\n",
      "  Duration: 00:01:45.12, start: 0.000000, bitrate: 134 kb/s\n",
      "  Stream #0:0: Audio: mp3, 44100 Hz, stereo, fltp, 128 kb/s\n",
      "Stream mapping:\n",
      "  Stream #0:0 -> #0:0 (mp3 (mp3float) -> pcm_s16le (native))\n",
      "Press [q] to stop, [?] for help\n",
      "Output #0, wav, to '/var/home/fraser/machine_learning/whisper.cpp/samples/5970.m2a-output.wav':\n",
      "  Metadata:\n",
      "    INAM            : Inflation Weighs on U.S. Stocks\n",
      "    lyrics-ENG      : <p>Plus: McDonald’s shares fall roughly 1% after <a href=\"https://www.wsj.com/finance/stocks/global-stocks-markets-dow-news-03-15-2024-0ce95baa?st=guby3rj42xgjopk&amp;reflink=desktopwebshare_permalink\">a technology glitch prevented some stores from open\n",
      "                    : \n",
      "    IART            : The Wall Street Journal\n",
      "    IPRD            : WSJ Minute Briefing\n",
      "    IGNR            : Podcast\n",
      "    ICRD            : 2018\n",
      "    ISFT            : Lavf58.76.100\n",
      "  Stream #0:0: Audio: pcm_s16le ([1][0][0][0] / 0x0001), 16000 Hz, mono, s16, 256 kb/s\n",
      "    Metadata:\n",
      "      encoder         : Lavc58.134.100 pcm_s16le\n",
      "size=    3285kB time=00:01:45.11 bitrate= 256.0kbits/s speed= 868x    \n",
      "video:0kB audio:3285kB subtitle:0kB other streams:0kB global headers:0kB muxing overhead: 0.006184%\n"
     ]
    },
    {
     "name": "stdout",
     "output_type": "stream",
     "text": [
      "saved: <_io.TextIOWrapper name='/var/home/fraser/machine_learning/whisper.cpp/samples/5970.m2a-output.wav.md' mode='a' encoding='UTF-8'>\n",
      "/var/home/fraser/machine_learning/whisper.cpp/samples/5879.m2a\n",
      "/var/home/fraser/machine_learning/whisper.cpp/samples/5879.m2a-output.wav\n"
     ]
    },
    {
     "name": "stderr",
     "output_type": "stream",
     "text": [
      "ffmpeg version 4.4 Copyright (c) 2000-2021 the FFmpeg developers\n",
      "  built with gcc 9.3.0 (crosstool-NG 1.24.0.133_b0863d8_dirty)\n",
      "  configuration: --prefix=/root/miniconda3/envs/conda_bld/conda-bld/ffmpeg_1635335682798/_h_env_placehold_placehold_placehold_placehold_placehold_placehold_placehold_placehold_placehold_placehold_placehold_placehold_placehold_placehold_placehold_placehold_placehold_placehold_place --cc=/root/miniconda3/envs/conda_bld/conda-bld/ffmpeg_1635335682798/_build_env/bin/x86_64-conda-linux-gnu-cc --disable-doc --disable-openssl --enable-avresample --enable-hardcoded-tables --enable-libfreetype --enable-libopenh264 --enable-pic --enable-pthreads --enable-shared --disable-static --enable-version3 --enable-zlib --enable-libmp3lame\n",
      "  libavutil      56. 70.100 / 56. 70.100\n",
      "  libavcodec     58.134.100 / 58.134.100\n",
      "  libavformat    58. 76.100 / 58. 76.100\n",
      "  libavdevice    58. 13.100 / 58. 13.100\n",
      "  libavfilter     7.110.100 /  7.110.100\n",
      "  libavresample   4.  0.  0 /  4.  0.  0\n",
      "  libswscale      5.  9.100 /  5.  9.100\n",
      "  libswresample   3.  9.100 /  3.  9.100\n",
      "[mp3 @ 0x559dd17bc580] Estimating duration from bitrate, this may be inaccurate\n",
      "Input #0, mp3, from '/var/home/fraser/machine_learning/whisper.cpp/samples/5879.m2a':\n",
      "  Metadata:\n",
      "    track           : 1\n",
      "    comment         : preroll_1_30000;postroll_1_30000\n",
      "    encoder         : Lavf60.21.100\n",
      "    date            : 2024\n",
      "  Duration: 00:40:19.10, start: 0.000000, bitrate: 128 kb/s\n",
      "  Stream #0:0: Audio: mp3, 44100 Hz, stereo, fltp, 128 kb/s\n",
      "Stream mapping:\n",
      "  Stream #0:0 -> #0:0 (mp3 (mp3float) -> pcm_s16le (native))\n",
      "Press [q] to stop, [?] for help\n",
      "Output #0, wav, to '/var/home/fraser/machine_learning/whisper.cpp/samples/5879.m2a-output.wav':\n",
      "  Metadata:\n",
      "    IPRT            : 1\n",
      "    ICMT            : preroll_1_30000;postroll_1_30000\n",
      "    ICRD            : 2024\n",
      "    ISFT            : Lavf58.76.100\n",
      "  Stream #0:0: Audio: pcm_s16le ([1][0][0][0] / 0x0001), 16000 Hz, mono, s16, 256 kb/s\n",
      "    Metadata:\n",
      "      encoder         : Lavc58.134.100 pcm_s16le\n",
      "[mp3float @ 0x559dd17c0880] overread, skip -5 enddists: -2 -21.09e+03x    \n",
      "size=   75597kB time=00:40:19.09 bitrate= 256.0kbits/s speed=1.09e+03x    \n",
      "video:0kB audio:75597kB subtitle:0kB other streams:0kB global headers:0kB muxing overhead: 0.000186%\n"
     ]
    },
    {
     "name": "stdout",
     "output_type": "stream",
     "text": [
      "Audio coverted successfully.\n",
      "saved: <_io.TextIOWrapper name='/var/home/fraser/machine_learning/whisper.cpp/samples/5879.m2a-output.wav.md' mode='a' encoding='UTF-8'>\n",
      "/var/home/fraser/machine_learning/whisper.cpp/samples/5965.m2a\n",
      "/var/home/fraser/machine_learning/whisper.cpp/samples/5965.m2a-output.wav\n"
     ]
    },
    {
     "name": "stderr",
     "output_type": "stream",
     "text": [
      "ffmpeg version 4.4 Copyright (c) 2000-2021 the FFmpeg developers\n",
      "  built with gcc 9.3.0 (crosstool-NG 1.24.0.133_b0863d8_dirty)\n",
      "  configuration: --prefix=/root/miniconda3/envs/conda_bld/conda-bld/ffmpeg_1635335682798/_h_env_placehold_placehold_placehold_placehold_placehold_placehold_placehold_placehold_placehold_placehold_placehold_placehold_placehold_placehold_placehold_placehold_placehold_placehold_place --cc=/root/miniconda3/envs/conda_bld/conda-bld/ffmpeg_1635335682798/_build_env/bin/x86_64-conda-linux-gnu-cc --disable-doc --disable-openssl --enable-avresample --enable-hardcoded-tables --enable-libfreetype --enable-libopenh264 --enable-pic --enable-pthreads --enable-shared --disable-static --enable-version3 --enable-zlib --enable-libmp3lame\n",
      "  libavutil      56. 70.100 / 56. 70.100\n",
      "  libavcodec     58.134.100 / 58.134.100\n",
      "  libavformat    58. 76.100 / 58. 76.100\n",
      "  libavdevice    58. 13.100 / 58. 13.100\n",
      "  libavfilter     7.110.100 /  7.110.100\n",
      "  libavresample   4.  0.  0 /  4.  0.  0\n",
      "  libswscale      5.  9.100 /  5.  9.100\n",
      "  libswresample   3.  9.100 /  3.  9.100\n",
      "[mp3 @ 0x55d9ce1a5580] Estimating duration from bitrate, this may be inaccurate\n",
      "Input #0, mp3, from '/var/home/fraser/machine_learning/whisper.cpp/samples/5965.m2a':\n",
      "  Metadata:\n",
      "    title           : n lw a netcast 240315\n",
      "    encoded_by      : auphonic.com\n",
      "    comment         : preroll_1_30000;postroll_1_30000\n",
      "  Duration: 00:46:14.39, start: 0.000000, bitrate: 96 kb/s\n",
      "  Stream #0:0: Audio: mp3, 44100 Hz, mono, fltp, 96 kb/s\n",
      "Stream mapping:\n",
      "  Stream #0:0 -> #0:0 (mp3 (mp3float) -> pcm_s16le (native))\n",
      "Press [q] to stop, [?] for help\n",
      "Output #0, wav, to '/var/home/fraser/machine_learning/whisper.cpp/samples/5965.m2a-output.wav':\n",
      "  Metadata:\n",
      "    INAM            : n lw a netcast 240315\n",
      "    ITCH            : auphonic.com\n",
      "    ICMT            : preroll_1_30000;postroll_1_30000\n",
      "    ISFT            : Lavf58.76.100\n",
      "  Stream #0:0: Audio: pcm_s16le ([1][0][0][0] / 0x0001), 16000 Hz, mono, s16, 256 kb/s\n",
      "    Metadata:\n",
      "      encoder         : Lavc58.134.100 pcm_s16le\n",
      "[mp3float @ 0x55d9ce1a9bc0] overread, skip -5 enddists: -1 -11.28e+03x    \n",
      "[mp3float @ 0x55d9ce1a9bc0] overread, skip -6 enddists: -1 -1\n",
      "[mp3float @ 0x55d9ce1a9bc0] overread, skip -6 enddists: -4 -41.28e+03x    \n",
      "size=   86700kB time=00:46:14.38 bitrate= 256.0kbits/s speed=1.28e+03x    \n",
      "video:0kB audio:86700kB subtitle:0kB other streams:0kB global headers:0kB muxing overhead: 0.000194%\n"
     ]
    },
    {
     "name": "stdout",
     "output_type": "stream",
     "text": [
      "Audio coverted successfully.\n",
      "saved: <_io.TextIOWrapper name='/var/home/fraser/machine_learning/whisper.cpp/samples/5965.m2a-output.wav.md' mode='a' encoding='UTF-8'>\n",
      "/var/home/fraser/machine_learning/whisper.cpp/samples/5973.m2a\n",
      "/var/home/fraser/machine_learning/whisper.cpp/samples/5973.m2a-output.wav\n"
     ]
    },
    {
     "name": "stderr",
     "output_type": "stream",
     "text": [
      "ffmpeg version 4.4 Copyright (c) 2000-2021 the FFmpeg developers\n",
      "  built with gcc 9.3.0 (crosstool-NG 1.24.0.133_b0863d8_dirty)\n",
      "  configuration: --prefix=/root/miniconda3/envs/conda_bld/conda-bld/ffmpeg_1635335682798/_h_env_placehold_placehold_placehold_placehold_placehold_placehold_placehold_placehold_placehold_placehold_placehold_placehold_placehold_placehold_placehold_placehold_placehold_placehold_place --cc=/root/miniconda3/envs/conda_bld/conda-bld/ffmpeg_1635335682798/_build_env/bin/x86_64-conda-linux-gnu-cc --disable-doc --disable-openssl --enable-avresample --enable-hardcoded-tables --enable-libfreetype --enable-libopenh264 --enable-pic --enable-pthreads --enable-shared --disable-static --enable-version3 --enable-zlib --enable-libmp3lame\n",
      "  libavutil      56. 70.100 / 56. 70.100\n",
      "  libavcodec     58.134.100 / 58.134.100\n",
      "  libavformat    58. 76.100 / 58. 76.100\n",
      "  libavdevice    58. 13.100 / 58. 13.100\n",
      "  libavfilter     7.110.100 /  7.110.100\n",
      "  libavresample   4.  0.  0 /  4.  0.  0\n",
      "  libswscale      5.  9.100 /  5.  9.100\n",
      "  libswresample   3.  9.100 /  3.  9.100\n",
      "[mp3 @ 0x564f51d81580] Estimating duration from bitrate, this may be inaccurate\n",
      "Input #0, mp3, from '/var/home/fraser/machine_learning/whisper.cpp/samples/5973.m2a':\n",
      "  Metadata:\n",
      "    TDAT            : 2024-03-15\n",
      "    artist          : Financial Times\n",
      "    title           : Swamp Notes: The play for union power\n",
      "    album           : FT News Briefing\n",
      "    genre           : Podcast\n",
      "    date            : 2024\n",
      "  Duration: 00:12:55.68, start: 0.000000, bitrate: 128 kb/s\n",
      "  Stream #0:0: Audio: mp3, 44100 Hz, stereo, fltp, 128 kb/s\n",
      "Stream mapping:\n",
      "  Stream #0:0 -> #0:0 (mp3 (mp3float) -> pcm_s16le (native))\n",
      "Press [q] to stop, [?] for help\n",
      "Output #0, wav, to '/var/home/fraser/machine_learning/whisper.cpp/samples/5973.m2a-output.wav':\n",
      "  Metadata:\n",
      "    TDAT            : 2024-03-15\n",
      "    IART            : Financial Times\n",
      "    INAM            : Swamp Notes: The play for union power\n",
      "    IPRD            : FT News Briefing\n",
      "    IGNR            : Podcast\n",
      "    ICRD            : 2024\n",
      "    ISFT            : Lavf58.76.100\n",
      "  Stream #0:0: Audio: pcm_s16le ([1][0][0][0] / 0x0001), 16000 Hz, mono, s16, 256 kb/s\n",
      "    Metadata:\n",
      "      encoder         : Lavc58.134.100 pcm_s16le\n",
      "size=   24240kB time=00:12:55.67 bitrate= 256.0kbits/s speed= 800x    \n",
      "video:0kB audio:24240kB subtitle:0kB other streams:0kB global headers:0kB muxing overhead: 0.000822%\n"
     ]
    },
    {
     "name": "stdout",
     "output_type": "stream",
     "text": [
      "Audio coverted successfully.\n",
      "saved: <_io.TextIOWrapper name='/var/home/fraser/machine_learning/whisper.cpp/samples/5973.m2a-output.wav.md' mode='a' encoding='UTF-8'>\n",
      "/var/home/fraser/machine_learning/whisper.cpp/samples/5967.m2a\n",
      "/var/home/fraser/machine_learning/whisper.cpp/samples/5967.m2a-output.wav\n"
     ]
    },
    {
     "name": "stderr",
     "output_type": "stream",
     "text": [
      "ffmpeg version 4.4 Copyright (c) 2000-2021 the FFmpeg developers\n",
      "  built with gcc 9.3.0 (crosstool-NG 1.24.0.133_b0863d8_dirty)\n",
      "  configuration: --prefix=/root/miniconda3/envs/conda_bld/conda-bld/ffmpeg_1635335682798/_h_env_placehold_placehold_placehold_placehold_placehold_placehold_placehold_placehold_placehold_placehold_placehold_placehold_placehold_placehold_placehold_placehold_placehold_placehold_place --cc=/root/miniconda3/envs/conda_bld/conda-bld/ffmpeg_1635335682798/_build_env/bin/x86_64-conda-linux-gnu-cc --disable-doc --disable-openssl --enable-avresample --enable-hardcoded-tables --enable-libfreetype --enable-libopenh264 --enable-pic --enable-pthreads --enable-shared --disable-static --enable-version3 --enable-zlib --enable-libmp3lame\n",
      "  libavutil      56. 70.100 / 56. 70.100\n",
      "  libavcodec     58.134.100 / 58.134.100\n",
      "  libavformat    58. 76.100 / 58. 76.100\n",
      "  libavdevice    58. 13.100 / 58. 13.100\n",
      "  libavfilter     7.110.100 /  7.110.100\n",
      "  libavresample   4.  0.  0 /  4.  0.  0\n",
      "  libswscale      5.  9.100 /  5.  9.100\n",
      "  libswresample   3.  9.100 /  3.  9.100\n",
      "Unknown attached picture mimetype: image/, skipping.\n",
      "[mp3 @ 0x563a91b36580] Estimating duration from bitrate, this may be inaccurate\n",
      "Input #0, mp3, from '/var/home/fraser/machine_learning/whisper.cpp/samples/5967.m2a':\n",
      "  Metadata:\n",
      "    title           : What’s News in Markets: Southwest Cuts, Discount Trouble, CEO’s Return\n",
      "    lyrics-ENG      : <p>How are Boeing’s troubles affecting Southwest? And how is inflation impacting discount stores like Dollar Tree? Plus, will the return of a former CEO help Under Armour? Host Francesca Fontana discusses the biggest stock moves of the week and the news\n",
      "                    : \n",
      "    artist          : The Wall Street Journal\n",
      "    album           : WSJ What’s News\n",
      "    genre           : Podcast\n",
      "    date            : 2019\n",
      "  Duration: 00:04:56.52, start: 0.000000, bitrate: 129 kb/s\n",
      "  Stream #0:0: Audio: mp3, 44100 Hz, stereo, fltp, 128 kb/s\n",
      "Stream mapping:\n",
      "  Stream #0:0 -> #0:0 (mp3 (mp3float) -> pcm_s16le (native))\n",
      "Press [q] to stop, [?] for help\n",
      "Output #0, wav, to '/var/home/fraser/machine_learning/whisper.cpp/samples/5967.m2a-output.wav':\n",
      "  Metadata:\n",
      "    INAM            : What’s News in Markets: Southwest Cuts, Discount Trouble, CEO’s Return\n",
      "    lyrics-ENG      : <p>How are Boeing’s troubles affecting Southwest? And how is inflation impacting discount stores like Dollar Tree? Plus, will the return of a former CEO help Under Armour? Host Francesca Fontana discusses the biggest stock moves of the week and the news\n",
      "                    : \n",
      "    IART            : The Wall Street Journal\n",
      "    IPRD            : WSJ What’s News\n",
      "    IGNR            : Podcast\n",
      "    ICRD            : 2019\n",
      "    ISFT            : Lavf58.76.100\n",
      "  Stream #0:0: Audio: pcm_s16le ([1][0][0][0] / 0x0001), 16000 Hz, mono, s16, 256 kb/s\n",
      "    Metadata:\n",
      "      encoder         : Lavc58.134.100 pcm_s16le\n",
      "size=    9266kB time=00:04:56.51 bitrate= 256.0kbits/s speed= 753x    \n",
      "video:0kB audio:9266kB subtitle:0kB other streams:0kB global headers:0kB muxing overhead: 0.002635%\n"
     ]
    },
    {
     "name": "stdout",
     "output_type": "stream",
     "text": [
      "Audio coverted successfully.\n",
      "saved: <_io.TextIOWrapper name='/var/home/fraser/machine_learning/whisper.cpp/samples/5967.m2a-output.wav.md' mode='a' encoding='UTF-8'>\n",
      "/var/home/fraser/machine_learning/whisper.cpp/samples/5966.m2a\n",
      "/var/home/fraser/machine_learning/whisper.cpp/samples/5966.m2a-output.wav\n"
     ]
    },
    {
     "name": "stderr",
     "output_type": "stream",
     "text": [
      "ffmpeg version 4.4 Copyright (c) 2000-2021 the FFmpeg developers\n",
      "  built with gcc 9.3.0 (crosstool-NG 1.24.0.133_b0863d8_dirty)\n",
      "  configuration: --prefix=/root/miniconda3/envs/conda_bld/conda-bld/ffmpeg_1635335682798/_h_env_placehold_placehold_placehold_placehold_placehold_placehold_placehold_placehold_placehold_placehold_placehold_placehold_placehold_placehold_placehold_placehold_placehold_placehold_place --cc=/root/miniconda3/envs/conda_bld/conda-bld/ffmpeg_1635335682798/_build_env/bin/x86_64-conda-linux-gnu-cc --disable-doc --disable-openssl --enable-avresample --enable-hardcoded-tables --enable-libfreetype --enable-libopenh264 --enable-pic --enable-pthreads --enable-shared --disable-static --enable-version3 --enable-zlib --enable-libmp3lame\n",
      "  libavutil      56. 70.100 / 56. 70.100\n",
      "  libavcodec     58.134.100 / 58.134.100\n",
      "  libavformat    58. 76.100 / 58. 76.100\n",
      "  libavdevice    58. 13.100 / 58. 13.100\n",
      "  libavfilter     7.110.100 /  7.110.100\n",
      "  libavresample   4.  0.  0 /  4.  0.  0\n",
      "  libswscale      5.  9.100 /  5.  9.100\n",
      "  libswresample   3.  9.100 /  3.  9.100\n",
      "Unknown attached picture mimetype: image/, skipping.\n",
      "[mp3 @ 0x557869660580] Estimating duration from bitrate, this may be inaccurate\n",
      "Input #0, mp3, from '/var/home/fraser/machine_learning/whisper.cpp/samples/5966.m2a':\n",
      "  Metadata:\n",
      "    title           : Chasing the Base: For Republican Voters, Trump Transcends Culture Wars\n",
      "    lyrics-ENG      : <p>After a big re-election win last year, Gov. Ron DeSantis said Florida is “where woke goes to die.” But the slew of culture-war policies he pushed, from restricting instruction about sexual orientation in schools to cracking down on drag performance\n",
      "                    : <p><br></p>\n",
      "                    : \n",
      "    artist          : The Wall Street Journal\n",
      "    album           : WSJ What’s News\n",
      "    genre           : Podcast\n",
      "    date            : 2019\n",
      "  Duration: 00:17:54.08, start: 0.000000, bitrate: 128 kb/s\n",
      "  Stream #0:0: Audio: mp3, 44100 Hz, stereo, fltp, 128 kb/s\n",
      "Stream mapping:\n",
      "  Stream #0:0 -> #0:0 (mp3 (mp3float) -> pcm_s16le (native))\n",
      "Press [q] to stop, [?] for help\n",
      "Output #0, wav, to '/var/home/fraser/machine_learning/whisper.cpp/samples/5966.m2a-output.wav':\n",
      "  Metadata:\n",
      "    INAM            : Chasing the Base: For Republican Voters, Trump Transcends Culture Wars\n",
      "    lyrics-ENG      : <p>After a big re-election win last year, Gov. Ron DeSantis said Florida is “where woke goes to die.” But the slew of culture-war policies he pushed, from restricting instruction about sexual orientation in schools to cracking down on drag performance\n",
      "                    : <p><br></p>\n",
      "                    : \n",
      "    IART            : The Wall Street Journal\n",
      "    IPRD            : WSJ What’s News\n",
      "    IGNR            : Podcast\n",
      "    ICRD            : 2019\n",
      "    ISFT            : Lavf58.76.100\n",
      "  Stream #0:0: Audio: pcm_s16le ([1][0][0][0] / 0x0001), 16000 Hz, mono, s16, 256 kb/s\n",
      "    Metadata:\n",
      "      encoder         : Lavc58.134.100 pcm_s16le\n",
      "[mp3float @ 0x557869665440] overread, skip -6 enddists: -2 -2 726x    \n",
      "[mp3float @ 0x557869665440] overread, skip -5 enddists: -4 -4\n",
      "    Last message repeated 1 times\n",
      "size=   33565kB time=00:17:54.07 bitrate= 256.0kbits/s speed= 729x    \n",
      "video:0kB audio:33565kB subtitle:0kB other streams:0kB global headers:0kB muxing overhead: 0.000716%\n"
     ]
    },
    {
     "name": "stdout",
     "output_type": "stream",
     "text": [
      "Audio coverted successfully.\n",
      "saved: <_io.TextIOWrapper name='/var/home/fraser/machine_learning/whisper.cpp/samples/5966.m2a-output.wav.md' mode='a' encoding='UTF-8'>\n",
      "/var/home/fraser/machine_learning/whisper.cpp/samples/5972.m2a\n",
      "/var/home/fraser/machine_learning/whisper.cpp/samples/5972.m2a-output.wav\n"
     ]
    },
    {
     "name": "stderr",
     "output_type": "stream",
     "text": [
      "ffmpeg version 4.4 Copyright (c) 2000-2021 the FFmpeg developers\n",
      "  built with gcc 9.3.0 (crosstool-NG 1.24.0.133_b0863d8_dirty)\n",
      "  configuration: --prefix=/root/miniconda3/envs/conda_bld/conda-bld/ffmpeg_1635335682798/_h_env_placehold_placehold_placehold_placehold_placehold_placehold_placehold_placehold_placehold_placehold_placehold_placehold_placehold_placehold_placehold_placehold_placehold_placehold_place --cc=/root/miniconda3/envs/conda_bld/conda-bld/ffmpeg_1635335682798/_build_env/bin/x86_64-conda-linux-gnu-cc --disable-doc --disable-openssl --enable-avresample --enable-hardcoded-tables --enable-libfreetype --enable-libopenh264 --enable-pic --enable-pthreads --enable-shared --disable-static --enable-version3 --enable-zlib --enable-libmp3lame\n",
      "  libavutil      56. 70.100 / 56. 70.100\n",
      "  libavcodec     58.134.100 / 58.134.100\n",
      "  libavformat    58. 76.100 / 58. 76.100\n",
      "  libavdevice    58. 13.100 / 58. 13.100\n",
      "  libavfilter     7.110.100 /  7.110.100\n",
      "  libavresample   4.  0.  0 /  4.  0.  0\n",
      "  libswscale      5.  9.100 /  5.  9.100\n",
      "  libswresample   3.  9.100 /  3.  9.100\n",
      "Input #0, mp3, from '/var/home/fraser/machine_learning/whisper.cpp/samples/5972.m2a':\n",
      "  Metadata:\n",
      "    comment         : \n",
      "    title           : Why the UAE Is Pumping $35 Billion Into Egypt\n",
      "    album_artist    : iHeartMedia, Inc. © Any use of this intellectual property for text and data mining or computational analysis including as training material for artificial intelligence systems is strictly prohibited without express written consent from iHeartMedia\n",
      "    artist          : iHeartMedia, Inc. © Any use of this intellectual property for text and data mining or computational analysis including as training material for artificial intelligence systems is strictly prohibited without express written consent from iHeartMedia\n",
      "    album           : Odd Lots\n",
      "    copyright       : iHeartMedia, Inc. © Any use of this intellectual property for text and data mining or computational analysis including as training material for artificial intelligence systems is strictly prohibited without express written consent from iHeartMedia\n",
      "    date            : 2024\n",
      "    genre           : Podcast\n",
      "    TLEN            : 2867570\n",
      "  Duration: 00:47:47.62, start: 0.000000, bitrate: 128 kb/s\n",
      "  Stream #0:0: Audio: mp3, 44100 Hz, stereo, fltp, 128 kb/s\n",
      "  Stream #0:1: Video: mjpeg (Progressive), yuvj444p(pc, bt470bg/unknown/unknown), 600x600 [SAR 72:72 DAR 1:1], 90k tbr, 90k tbn, 90k tbc (attached pic)\n",
      "    Metadata:\n",
      "      comment         : Cover (front)\n",
      "Stream mapping:\n",
      "  Stream #0:0 -> #0:0 (mp3 (mp3float) -> pcm_s16le (native))\n",
      "Press [q] to stop, [?] for help\n",
      "Output #0, wav, to '/var/home/fraser/machine_learning/whisper.cpp/samples/5972.m2a-output.wav':\n",
      "  Metadata:\n",
      "    ICMT            : \n",
      "    INAM            : Why the UAE Is Pumping $35 Billion Into Egypt\n",
      "    album_artist    : iHeartMedia, Inc. © Any use of this intellectual property for text and data mining or computational analysis including as training material for artificial intelligence systems is strictly prohibited without express written consent from iHeartMedia\n",
      "    IART            : iHeartMedia, Inc. © Any use of this intellectual property for text and data mining or computational analysis including as training material for artificial intelligence systems is strictly prohibited without express written consent from iHeartMedia\n",
      "    IPRD            : Odd Lots\n",
      "    ICOP            : iHeartMedia, Inc. © Any use of this intellectual property for text and data mining or computational analysis including as training material for artificial intelligence systems is strictly prohibited without express written consent from iHeartMedia\n",
      "    ICRD            : 2024\n",
      "    IGNR            : Podcast\n",
      "    TLEN            : 2867570\n",
      "    ISFT            : Lavf58.76.100\n",
      "  Stream #0:0: Audio: pcm_s16le ([1][0][0][0] / 0x0001), 16000 Hz, mono, s16, 256 kb/s\n",
      "    Metadata:\n",
      "      encoder         : Lavc58.134.100 pcm_s16le\n",
      "size=   89614kB time=00:47:47.61 bitrate= 256.0kbits/s speed= 844x    \n",
      "video:0kB audio:89613kB subtitle:0kB other streams:0kB global headers:0kB muxing overhead: 0.000758%\n"
     ]
    },
    {
     "name": "stdout",
     "output_type": "stream",
     "text": [
      "Audio coverted successfully.\n",
      "saved: <_io.TextIOWrapper name='/var/home/fraser/machine_learning/whisper.cpp/samples/5972.m2a-output.wav.md' mode='a' encoding='UTF-8'>\n"
     ]
    }
   ],
   "source": [
    "# iterate over all audio files and transcribe them:\n",
    "for file in files:\n",
    "    audio_file = file\n",
    "    # convert audio file to 16-bit wav format required by whisper\n",
    "    output_file = audio_file + '-output.wav'\n",
    "    print(audio_file)\n",
    "    print(output_file)\n",
    "\n",
    "    # convert audio_file then transcribe to text\n",
    "    # overwrites existing file with same name with yes_command\n",
    "    try:\n",
    "        yes_command = f'echo \"y\" | '\n",
    "        subprocess.run([yes_command + 'ffmpeg' + ' -i ' +  audio_file + ' -ar 16000 -ac 1 -c:a pcm_s16le ' \n",
    "                        + output_file], shell=True, check=True)\n",
    "        print(\"Audio coverted successfully.\")\n",
    "    except subprocess.CalledProcessError as e:\n",
    "        print(f\"Audio convertion failed with error {e.returncode}.\")\n",
    "\n",
    "    # pipeline\n",
    "    pipe = pipeline(\n",
    "        \"automatic-speech-recognition\",\n",
    "        model=model,\n",
    "        tokenizer=processor.tokenizer,\n",
    "        feature_extractor=processor.feature_extractor,\n",
    "        max_new_tokens=128,\n",
    "        chunk_length_s=15,\n",
    "        batch_size=16,\n",
    "        torch_dtype=torch_dtype,\n",
    "        device=device\n",
    "    )\n",
    "    result_local = pipe(output_file)\n",
    "\n",
    "    # save transcript as a .md file\n",
    "    saved_txt=result_local[\"text\"]\n",
    "    f = open(output_file + \".md\", \"a\")\n",
    "    f.write(saved_txt)\n",
    "    f.close()\n",
    "    print(\"saved:\", f)\n",
    "        "
   ]
  },
  {
   "cell_type": "code",
   "execution_count": 8,
   "metadata": {},
   "outputs": [
    {
     "name": "stdout",
     "output_type": "stream",
     "text": [
      "Combined 7 Markdown files into podcast_transcripts.txt\n"
     ]
    }
   ],
   "source": [
    "# helper utility to combine all transcripts into one file (for ease of scanning podcasts)\n",
    "# ai assisted\n",
    "def combine_markdown_files(output_file_path, input_directory):\n",
    "    markdown_files = glob.glob(input_directory + '*.md')\n",
    "\n",
    "    with open(output_file_path, 'w') as output_file:\n",
    "        for file_path in markdown_files:\n",
    "            file_name = os.path.basename(file_path)\n",
    "            with open(file_path, 'r') as input_file:\n",
    "                output_file.write(f\"## {file_name}\\n\\n\")\n",
    "                output_file.write(input_file.read())\n",
    "                output_file.write('\\n\\n')  # Add newline between files\n",
    "\n",
    "    print(f\"Combined {len(markdown_files)} Markdown files into {output_file_path}\")\n",
    "\n",
    "# saves combined markdown files into directory of Jupyter notebook (not the input directory)\n",
    "# saved as .txt file to ease send to kindle workflow\n",
    "combine_markdown_files('podcast_transcripts.txt', directory)"
   ]
  }
 ],
 "metadata": {
  "kernelspec": {
   "display_name": "py310",
   "language": "python",
   "name": "python3"
  },
  "language_info": {
   "codemirror_mode": {
    "name": "ipython",
    "version": 3
   },
   "file_extension": ".py",
   "mimetype": "text/x-python",
   "name": "python",
   "nbconvert_exporter": "python",
   "pygments_lexer": "ipython3",
   "version": "3.10.13"
  }
 },
 "nbformat": 4,
 "nbformat_minor": 2
}
