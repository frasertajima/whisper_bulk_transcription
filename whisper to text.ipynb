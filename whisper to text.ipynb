{
 "cells": [
  {
   "cell_type": "markdown",
   "metadata": {},
   "source": [
    "Ease deployment of CPU whisper by filling all settings. Setup is outlined in https://github.com/ggerganov/whisper.cpp. I had difficulty with CUDA in Fedora Silverblue (could only make in a distrobox and the end result had artefacts or hallucinations). This ASR has the highest accuracy and lowest speed.\n",
    "\n",
    "CAUTION: MAKE SURE TO BACKUP AUDIO FILES IF THEY HAVE SPACES IN THEIR NAMES AS THEY WILL BE RENAMED (AND THE METADATA ALTERED). For file names without spaces, the original file is not renamed and a copy is made in a compatible audio format."
   ]
  },
  {
   "cell_type": "code",
   "execution_count": 1,
   "metadata": {},
   "outputs": [
    {
     "name": "stdout",
     "output_type": "stream",
     "text": [
      "1.m2a\n",
      "1.m2a-output.wav\n"
     ]
    }
   ],
   "source": [
    "import numpy as np\n",
    "import subprocess\n",
    "import os\n",
    "import glob\n",
    "\n",
    "np.set_printoptions(linewidth=50)\n",
    "\n",
    "# change to reflect your local directory and file name\n",
    "directory = '/var/home/fraser/machine_learning/whisper.cpp/samples/'\n",
    "# ensure the spaces are replaced with '-' (cell below will rename files for ffmpeg processing)\n",
    "audio_file = '1.m2a'\n",
    "output_file = audio_file + '-output.wav'\n",
    "print(audio_file)\n",
    "print(output_file)"
   ]
  },
  {
   "cell_type": "code",
   "execution_count": 2,
   "metadata": {},
   "outputs": [],
   "source": [
    "# rename all audio files with spaces in their name\n",
    "# added *.m2a for podcasts\n",
    "files = glob.glob(os.path.join(directory, '*.m4a')) + \\\n",
    "        glob.glob(os.path.join(directory, '*.mp3')) + \\\n",
    "        glob.glob(os.path.join(directory, '*.m2a')) + \\\n",
    "        glob.glob(os.path.join(directory, '*.ogg')) + \\\n",
    "        glob.glob(os.path.join(directory, '*.wav'))\n",
    "\n",
    "# Iterate over the files \n",
    "for file in files:\n",
    "    # If the file name contains a space\n",
    "    if ' ' in file:\n",
    "        # Replace the spaces with hyphens\n",
    "        new_name = file.replace(' ', '-')\n",
    "        # Rename the file\n",
    "        os.rename(file, new_name)"
   ]
  },
  {
   "cell_type": "code",
   "execution_count": 3,
   "metadata": {},
   "outputs": [
    {
     "name": "stdout",
     "output_type": "stream",
     "text": [
      "Audio coverted successfully.\n"
     ]
    },
    {
     "name": "stderr",
     "output_type": "stream",
     "text": [
      "ffmpeg version 4.4 Copyright (c) 2000-2021 the FFmpeg developers\n",
      "  built with gcc 9.3.0 (crosstool-NG 1.24.0.133_b0863d8_dirty)\n",
      "  configuration: --prefix=/root/miniconda3/envs/conda_bld/conda-bld/ffmpeg_1635335682798/_h_env_placehold_placehold_placehold_placehold_placehold_placehold_placehold_placehold_placehold_placehold_placehold_placehold_placehold_placehold_placehold_placehold_placehold_placehold_place --cc=/root/miniconda3/envs/conda_bld/conda-bld/ffmpeg_1635335682798/_build_env/bin/x86_64-conda-linux-gnu-cc --disable-doc --disable-openssl --enable-avresample --enable-hardcoded-tables --enable-libfreetype --enable-libopenh264 --enable-pic --enable-pthreads --enable-shared --disable-static --enable-version3 --enable-zlib --enable-libmp3lame\n",
      "  libavutil      56. 70.100 / 56. 70.100\n",
      "  libavcodec     58.134.100 / 58.134.100\n",
      "  libavformat    58. 76.100 / 58. 76.100\n",
      "  libavdevice    58. 13.100 / 58. 13.100\n",
      "  libavfilter     7.110.100 /  7.110.100\n",
      "  libavresample   4.  0.  0 /  4.  0.  0\n",
      "  libswscale      5.  9.100 /  5.  9.100\n",
      "  libswresample   3.  9.100 /  3.  9.100\n",
      "Unknown attached picture mimetype: image/, skipping.\n",
      "[mp3 @ 0x55c28233b580] Estimating duration from bitrate, this may be inaccurate\n",
      "Input #0, mp3, from '/var/home/fraser/machine_learning/whisper.cpp/samples/1.m2a':\n",
      "  Metadata:\n",
      "    title           : U.S. Stocks Snap Four-Session Losing Streak\n",
      "    lyrics-ENG      : <p>Plus: <a href=\"https://www.wsj.com/finance/stocks/global-stocks-markets-dow-news-09-25-2023-fb657d6b?st=earxebvnzc3nqj5&amp;reflink=desktopwebshare_permalink\">Amazon shares rise on news the company will invest up to $4 billion in AI</a> company Anthrop\n",
      "                    : <p><br></p>\n",
      "                    : \n",
      "    artist          : The Wall Street Journal\n",
      "    album           : WSJ Minute Briefing\n",
      "    genre           : Podcast\n",
      "    date            : 2018\n",
      "  Duration: 00:01:50.94, start: 0.000000, bitrate: 133 kb/s\n",
      "  Stream #0:0: Audio: mp3, 44100 Hz, mono, fltp, 128 kb/s\n",
      "File '/var/home/fraser/machine_learning/whisper.cpp/samples/1.m2a-output.wav' already exists. Overwrite? [y/N] Stream mapping:\n",
      "  Stream #0:0 -> #0:0 (mp3 (mp3float) -> pcm_s16le (native))\n",
      "Press [q] to stop, [?] for help\n",
      "Output #0, wav, to '/var/home/fraser/machine_learning/whisper.cpp/samples/1.m2a-output.wav':\n",
      "  Metadata:\n",
      "    INAM            : U.S. Stocks Snap Four-Session Losing Streak\n",
      "    lyrics-ENG      : <p>Plus: <a href=\"https://www.wsj.com/finance/stocks/global-stocks-markets-dow-news-09-25-2023-fb657d6b?st=earxebvnzc3nqj5&amp;reflink=desktopwebshare_permalink\">Amazon shares rise on news the company will invest up to $4 billion in AI</a> company Anthrop\n",
      "                    : <p><br></p>\n",
      "                    : \n",
      "    IART            : The Wall Street Journal\n",
      "    IPRD            : WSJ Minute Briefing\n",
      "    IGNR            : Podcast\n",
      "    ICRD            : 2018\n",
      "    ISFT            : Lavf58.76.100\n",
      "  Stream #0:0: Audio: pcm_s16le ([1][0][0][0] / 0x0001), 16000 Hz, mono, s16, 256 kb/s\n",
      "    Metadata:\n",
      "      encoder         : Lavc58.134.100 pcm_s16le\n",
      "size=    3467kB time=00:01:50.94 bitrate= 256.0kbits/s speed=1.42e+03x    \n",
      "video:0kB audio:3467kB subtitle:0kB other streams:0kB global headers:0kB muxing overhead: 0.006197%\n"
     ]
    }
   ],
   "source": [
    "# convert audio_file then transcribe to text\n",
    "# overwrites existing file with same name\n",
    "try:\n",
    "    yes_command = f'echo \"y\" | '\n",
    "    subprocess.run([yes_command + 'ffmpeg' + ' -i ' + directory + audio_file + ' -ar 16000 -ac 1 -c:a pcm_s16le ' \n",
    "                    + directory + output_file], shell=True, check=True)\n",
    "    print(\"Audio coverted successfully.\")\n",
    "except subprocess.CalledProcessError as e:\n",
    "    print(f\"Audio convertion failed with error {e.returncode}.\")"
   ]
  },
  {
   "cell_type": "code",
   "execution_count": 4,
   "metadata": {},
   "outputs": [
    {
     "data": {
      "text/plain": [
       "'\\n# transcribe using the whisper-distill model: this model is halluciating presently\\n# but once that is fixed, I can swap out the slower CPU model for the CUDA enabled model\\n# so this code is for future use\\ntry:\\n    subprocess.run([\\'transcribe -t 24 -m /var/home/fraser/machine_learning/whisper.cpp/models/ggml-large-32-2.en.bin -f \\' \\n                    + directory + output_file + \\' -otxt\\'], shell=True, check=True)\\n    print(\"Transcription executed successfully and saved in \" + directory + output_file)\\nexcept subprocess.CalledProcessError as e:\\n    print(f\"Transcription failed with error {e.returncode}.\")\\n'"
      ]
     },
     "execution_count": 4,
     "metadata": {},
     "output_type": "execute_result"
    }
   ],
   "source": [
    "'''\n",
    "# transcribe using the whisper-distill model: this model is halluciating presently\n",
    "# but once that is fixed, I can swap out the slower CPU model for the CUDA enabled model\n",
    "# so this code is for future use\n",
    "try:\n",
    "    subprocess.run(['transcribe -t 24 -m /var/home/fraser/machine_learning/whisper.cpp/models/ggml-large-32-2.en.bin -f ' \n",
    "                    + directory + output_file + ' -otxt'], shell=True, check=True)\n",
    "    print(\"Transcription executed successfully and saved in \" + directory + output_file)\n",
    "except subprocess.CalledProcessError as e:\n",
    "    print(f\"Transcription failed with error {e.returncode}.\")\n",
    "'''"
   ]
  },
  {
   "cell_type": "code",
   "execution_count": 5,
   "metadata": {},
   "outputs": [
    {
     "name": "stderr",
     "output_type": "stream",
     "text": [
      "whisper_init_from_file_with_params_no_state: loading model from '/var/home/fraser/machine_learning/whisper.cpp/models/ggml-model-whisper-large-q5_0.bin'\n",
      "whisper_model_load: loading model\n",
      "whisper_model_load: n_vocab       = 51865\n",
      "whisper_model_load: n_audio_ctx   = 1500\n",
      "whisper_model_load: n_audio_state = 1280\n",
      "whisper_model_load: n_audio_head  = 20\n",
      "whisper_model_load: n_audio_layer = 32\n",
      "whisper_model_load: n_text_ctx    = 448\n",
      "whisper_model_load: n_text_state  = 1280\n",
      "whisper_model_load: n_text_head   = 20\n",
      "whisper_model_load: n_text_layer  = 32\n",
      "whisper_model_load: n_mels        = 80\n",
      "whisper_model_load: ftype         = 8\n",
      "whisper_model_load: qntvr         = 1\n",
      "whisper_model_load: type          = 5 (large)\n",
      "whisper_model_load: adding 1608 extra tokens\n",
      "whisper_model_load: n_langs       = 99\n",
      "whisper_model_load:      CPU total size =  1080.10 MB\n",
      "whisper_model_load: model size    = 1080.10 MB\n",
      "whisper_init_state: kv self size  =  220.20 MB\n",
      "whisper_init_state: kv cross size =  245.76 MB\n",
      "whisper_init_state: compute buffer (conv)   =   34.82 MB\n",
      "whisper_init_state: compute buffer (encode) =  926.66 MB\n",
      "whisper_init_state: compute buffer (cross)  =    9.38 MB\n",
      "whisper_init_state: compute buffer (decode) =  209.26 MB\n",
      "\n",
      "system_info: n_threads = 24 / 24 | AVX = 1 | AVX2 = 1 | AVX512 = 0 | FMA = 1 | NEON = 0 | ARM_FMA = 0 | METAL = 0 | F16C = 1 | FP16_VA = 0 | WASM_SIMD = 0 | BLAS = 0 | SSE3 = 1 | SSSE3 = 1 | VSX = 0 | CUDA = 0 | COREML = 0 | OPENVINO = 0\n",
      "\n",
      "main: processing '/var/home/fraser/machine_learning/whisper.cpp/samples/1.m2a-output.wav' (1775073 samples, 110.9 sec), 24 threads, 1 processors, 5 beams + best of 5, lang = en, task = transcribe, timestamps = 1 ...\n",
      "\n"
     ]
    },
    {
     "name": "stdout",
     "output_type": "stream",
     "text": [
      "\n",
      "[00:00:00.000 --> 00:00:27.740]   [music]\n",
      "[00:00:27.740 --> 00:00:29.100]   Here's your Closing Bell Brief\n",
      "[00:00:29.100 --> 00:00:31.100]   for Monday, September 25th.\n",
      "[00:00:31.100 --> 00:00:33.520]   I'm J.R. Whalen for The Wall Street Journal.\n",
      "[00:00:33.520 --> 00:00:35.120]   U.S. stocks opened the week higher,\n",
      "[00:00:35.120 --> 00:00:36.960]   snapping four session losing streaks\n",
      "[00:00:36.960 --> 00:00:39.260]   for all three major U.S. indexes.\n",
      "[00:00:39.260 --> 00:00:42.260]   The Dow Jones Industrial Average rose 43 points\n",
      "[00:00:42.260 --> 00:00:44.620]   to close at 34,007.\n",
      "[00:00:44.620 --> 00:00:47.400]   The S&P 500 was up 17 points,\n",
      "[00:00:47.400 --> 00:00:49.700]   and the NASDAQ added 60 points.\n",
      "[00:00:49.700 --> 00:00:51.700]   Stocks rose despite a continued rise\n",
      "[00:00:51.700 --> 00:00:53.660]   in U.S. Treasury bond yields.\n",
      "[00:00:53.660 --> 00:00:55.420]   Higher bond yields typically push up\n",
      "[00:00:55.420 --> 00:00:58.260]   companies' borrowing costs and squeeze margins.\n",
      "[00:00:58.260 --> 00:01:00.020]   The yield on the 10-year bond settled\n",
      "[00:01:00.020 --> 00:01:02.760]   at its highest point since 2007.\n",
      "[00:01:02.760 --> 00:01:06.700]   Looking at stocks, shares of Amazon rose 1.7%.\n",
      "[00:01:06.700 --> 00:01:09.100]   We report exclusively the company agreed to invest\n",
      "[00:01:09.100 --> 00:01:13.460]   up to $4 billion in artificial intelligence company Anthropic.\n",
      "[00:01:13.460 --> 00:01:16.660]   Shares of Warner Bros. Discovery fell 4%.\n",
      "[00:01:16.660 --> 00:01:19.320]   Paramount Global was up 0.2%.\n",
      "[00:01:19.320 --> 00:01:23.520]   And Disney ended down 0.3% after writers, studios,\n",
      "[00:01:23.520 --> 00:01:25.860]   and streamers said they reached a tentative agreement\n",
      "[00:01:25.860 --> 00:01:27.420]   to end a months-long strike.\n",
      "[00:01:27.420 --> 00:01:30.160]   Netflix shares rose 1.3%.\n",
      "[00:01:30.160 --> 00:01:33.260]   Higher oil prices caught up with several travel stocks.\n",
      "[00:01:33.260 --> 00:01:36.400]   Cruise operator Carnival lost 1.1%.\n",
      "[00:01:36.400 --> 00:01:38.860]   Southwest Airlines was down 2%.\n",
      "[00:01:38.860 --> 00:01:41.560]   And Las Vegas Sands fell 1%.\n",
      "[00:01:41.560 --> 00:01:43.300]   We'll have a lot more coverage of the day's news\n",
      "[00:01:43.300 --> 00:01:45.460]   on the WSJ's What's News podcast.\n",
      "[00:01:45.460 --> 00:01:47.960]   You can add it to your playlist on your smart speaker,\n",
      "[00:01:47.960 --> 00:01:50.800]   or listen and subscribe wherever you get your podcasts.\n",
      "\n",
      "Transcription executed successfully and saved in /var/home/fraser/machine_learning/whisper.cpp/samples/1.m2a-output.wav\n"
     ]
    },
    {
     "name": "stderr",
     "output_type": "stream",
     "text": [
      "output_txt: saving output to '/var/home/fraser/machine_learning/whisper.cpp/samples/1.m2a-output.wav.txt'\n",
      "\n",
      "whisper_print_timings:     load time =   635.68 ms\n",
      "whisper_print_timings:     fallbacks =   0 p /   0 h\n",
      "whisper_print_timings:      mel time =    89.81 ms\n",
      "whisper_print_timings:   sample time =   882.48 ms /  1919 runs (    0.46 ms per run)\n",
      "whisper_print_timings:   encode time = 78501.54 ms /     4 runs (19625.38 ms per run)\n",
      "whisper_print_timings:   decode time =    78.85 ms /     1 runs (   78.85 ms per run)\n",
      "whisper_print_timings:   batchd time = 76501.24 ms /  1901 runs (   40.24 ms per run)\n",
      "whisper_print_timings:   prompt time =  6640.32 ms /   407 runs (   16.32 ms per run)\n",
      "whisper_print_timings:    total time = 163347.53 ms\n"
     ]
    }
   ],
   "source": [
    "# transcribe using the large quantized CPU model, output text file\n",
    "try:\n",
    "    subprocess.run(['transcribe -t 24 -m /var/home/fraser/machine_learning/whisper.cpp/models/ggml-model-whisper-large-q5_0.bin -f ' \n",
    "                    + directory + output_file + ' -otxt'], shell=True, check=True)\n",
    "    print(\"Transcription executed successfully and saved in \" + directory + output_file)\n",
    "except subprocess.CalledProcessError as e:\n",
    "    print(f\"Transcription failed with error {e.returncode}.\")"
   ]
  },
  {
   "cell_type": "markdown",
   "metadata": {},
   "source": [
    "7m to transcribe a 2:24m file, but all punctuation, etc., is *perfect*. whisper-distil on CUDA takes 2.6s but has some errors. Attempts at injecting markdown formatting commands failed as the command is surrounded by ' ' for some odd reason. When this changes, it should be possible to inject formatting while dictating."
   ]
  }
 ],
 "metadata": {
  "kernelspec": {
   "display_name": "py310",
   "language": "python",
   "name": "python3"
  },
  "language_info": {
   "codemirror_mode": {
    "name": "ipython",
    "version": 3
   },
   "file_extension": ".py",
   "mimetype": "text/x-python",
   "name": "python",
   "nbconvert_exporter": "python",
   "pygments_lexer": "ipython3",
   "version": "3.10.13"
  }
 },
 "nbformat": 4,
 "nbformat_minor": 2
}
